{
 "cells": [
  {
   "cell_type": "code",
   "execution_count": 1,
   "id": "8fd14876",
   "metadata": {},
   "outputs": [],
   "source": [
    "import pandas as pd\n",
    "from datetime import datetime\n",
    "import math\n",
    "import warnings\n",
    "warnings.filterwarnings('ignore')"
   ]
  },
  {
   "cell_type": "code",
   "execution_count": 2,
   "id": "b8a05bd7",
   "metadata": {},
   "outputs": [],
   "source": [
    "import os\n",
    "import sys\n",
    "module_path = os.path.abspath(os.path.join('..'))\n",
    "if module_path not in sys.path:\n",
    "    sys.path.append(module_path)"
   ]
  },
  {
   "cell_type": "code",
   "execution_count": 3,
   "id": "e3d241d7",
   "metadata": {},
   "outputs": [
    {
     "name": "stdout",
     "output_type": "stream",
     "text": [
      "Connection to PostgreSQL DB successful\n"
     ]
    }
   ],
   "source": [
    "from postgresql.connection import create_connection, close_connection\n",
    "from config import settings\n",
    "\n",
    "conn = create_connection(\n",
    "            settings.database.database_name,\n",
    "            settings.database.username,\n",
    "            settings.database.password,\n",
    "            settings.database.host,\n",
    "            settings.database.port,\n",
    "        )\n",
    "\n",
    "\n",
    "events=pd.read_sql('Select * from events',conn)\n",
    "nearby_cities=pd.read_sql('Select * from nearby_cities',conn)"
   ]
  },
  {
   "cell_type": "markdown",
   "id": "2b97ff64",
   "metadata": {},
   "source": [
    "### Q6. Biggest earthquake in 2017"
   ]
  },
  {
   "cell_type": "code",
   "execution_count": 4,
   "id": "1bbb77a3",
   "metadata": {},
   "outputs": [
    {
     "data": {
      "text/html": [
       "<div>\n",
       "<style scoped>\n",
       "    .dataframe tbody tr th:only-of-type {\n",
       "        vertical-align: middle;\n",
       "    }\n",
       "\n",
       "    .dataframe tbody tr th {\n",
       "        vertical-align: top;\n",
       "    }\n",
       "\n",
       "    .dataframe thead th {\n",
       "        text-align: right;\n",
       "    }\n",
       "</style>\n",
       "<table border=\"1\" class=\"dataframe\">\n",
       "  <thead>\n",
       "    <tr style=\"text-align: right;\">\n",
       "      <th></th>\n",
       "      <th>property.mag</th>\n",
       "      <th>property.place</th>\n",
       "      <th>geometry.coordinates</th>\n",
       "      <th>created_at</th>\n",
       "    </tr>\n",
       "  </thead>\n",
       "  <tbody>\n",
       "    <tr>\n",
       "      <th>0</th>\n",
       "      <td>6.0</td>\n",
       "      <td>195 km SW of Nadi, Fiji</td>\n",
       "      <td>[176, -19, 10]</td>\n",
       "      <td>2017-01-01 00:04:06+00:00</td>\n",
       "    </tr>\n",
       "    <tr>\n",
       "      <th>1</th>\n",
       "      <td>6.0</td>\n",
       "      <td>225 km SW of Nadi, Fiji</td>\n",
       "      <td>[176, -19, 12]</td>\n",
       "      <td>2017-01-01 00:04:06+00:00</td>\n",
       "    </tr>\n",
       "    <tr>\n",
       "      <th>2</th>\n",
       "      <td>6.0</td>\n",
       "      <td>south of the Fiji Islands</td>\n",
       "      <td>[179, -23, 552]</td>\n",
       "      <td>2017-01-01 00:04:06+00:00</td>\n",
       "    </tr>\n",
       "  </tbody>\n",
       "</table>\n",
       "</div>"
      ],
      "text/plain": [
       "   property.mag             property.place geometry.coordinates  \\\n",
       "0           6.0    195 km SW of Nadi, Fiji       [176, -19, 10]   \n",
       "1           6.0    225 km SW of Nadi, Fiji       [176, -19, 12]   \n",
       "2           6.0  south of the Fiji Islands      [179, -23, 552]   \n",
       "\n",
       "                 created_at  \n",
       "0 2017-01-01 00:04:06+00:00  \n",
       "1 2017-01-01 00:04:06+00:00  \n",
       "2 2017-01-01 00:04:06+00:00  "
      ]
     },
     "execution_count": 4,
     "metadata": {},
     "output_type": "execute_result"
    }
   ],
   "source": [
    "events_with_max_magnitude=pd.read_sql('select \"property.mag\", \"property.place\", \"geometry.coordinates\",created_at from events where \"property.mag\" = (select max(\"property.mag\") from events);',conn)\n",
    "events_with_max_magnitude"
   ]
  },
  {
   "cell_type": "code",
   "execution_count": 5,
   "id": "cc4fece4",
   "metadata": {},
   "outputs": [],
   "source": [
    "def get_magnitude_bucket(x: float):\n",
    "    \"\"\"\n",
    "    Given a magnitude, this method decides magnitude bucket\n",
    "    following the rule\n",
    "    \"\"\"\n",
    "    if x < 0: \n",
    "        return '0-1'\n",
    "    elif x > 6: \n",
    "        return '>6'\n",
    "    else: \n",
    "        return str(math.floor(x))+'-'+str(math.floor(x)+1)"
   ]
  },
  {
   "cell_type": "markdown",
   "id": "1c8ad709",
   "metadata": {},
   "source": [
    "#### Identify magnitude_bucket for each earthquake event"
   ]
  },
  {
   "cell_type": "code",
   "execution_count": 6,
   "id": "a0aff178",
   "metadata": {},
   "outputs": [
    {
     "data": {
      "text/html": [
       "<div>\n",
       "<style scoped>\n",
       "    .dataframe tbody tr th:only-of-type {\n",
       "        vertical-align: middle;\n",
       "    }\n",
       "\n",
       "    .dataframe tbody tr th {\n",
       "        vertical-align: top;\n",
       "    }\n",
       "\n",
       "    .dataframe thead th {\n",
       "        text-align: right;\n",
       "    }\n",
       "</style>\n",
       "<table border=\"1\" class=\"dataframe\">\n",
       "  <thead>\n",
       "    <tr style=\"text-align: right;\">\n",
       "      <th></th>\n",
       "      <th>id</th>\n",
       "      <th>type</th>\n",
       "      <th>property.mag</th>\n",
       "      <th>property.place</th>\n",
       "      <th>property.detail</th>\n",
       "      <th>geometry.type</th>\n",
       "      <th>geometry.coordinates</th>\n",
       "      <th>generated_at</th>\n",
       "      <th>created_at</th>\n",
       "      <th>updated_at</th>\n",
       "      <th>hour</th>\n",
       "      <th>magnitude_bucket</th>\n",
       "    </tr>\n",
       "  </thead>\n",
       "  <tbody>\n",
       "    <tr>\n",
       "      <th>0</th>\n",
       "      <td>us10007pke</td>\n",
       "      <td>Feature</td>\n",
       "      <td>5.0</td>\n",
       "      <td>174 km SW of Nadi, Fiji</td>\n",
       "      <td>https://earthquake.usgs.gov/fdsnws/event/1/que...</td>\n",
       "      <td>Point</td>\n",
       "      <td>[176, -19, 10]</td>\n",
       "      <td>1668014872000</td>\n",
       "      <td>2017-01-01 00:04:06+00:00</td>\n",
       "      <td>2017-02-08 21:15:08+00:00</td>\n",
       "      <td>0</td>\n",
       "      <td>5-6</td>\n",
       "    </tr>\n",
       "    <tr>\n",
       "      <th>1</th>\n",
       "      <td>ak0175clbmm</td>\n",
       "      <td>Feature</td>\n",
       "      <td>1.0</td>\n",
       "      <td>15 km SSE of Susitna North, Alaska</td>\n",
       "      <td>https://earthquake.usgs.gov/fdsnws/event/1/que...</td>\n",
       "      <td>Point</td>\n",
       "      <td>[-150, 62, 46]</td>\n",
       "      <td>1668014872000</td>\n",
       "      <td>2017-01-01 00:04:06+00:00</td>\n",
       "      <td>2017-02-08 21:15:08+00:00</td>\n",
       "      <td>0</td>\n",
       "      <td>1-2</td>\n",
       "    </tr>\n",
       "    <tr>\n",
       "      <th>2</th>\n",
       "      <td>us10007ue3</td>\n",
       "      <td>Feature</td>\n",
       "      <td>5.0</td>\n",
       "      <td>220 km SW of Nadi, Fiji</td>\n",
       "      <td>https://earthquake.usgs.gov/fdsnws/event/1/que...</td>\n",
       "      <td>Point</td>\n",
       "      <td>[176, -19, 10]</td>\n",
       "      <td>1668014872000</td>\n",
       "      <td>2017-01-01 00:04:06+00:00</td>\n",
       "      <td>2017-02-08 21:15:08+00:00</td>\n",
       "      <td>0</td>\n",
       "      <td>5-6</td>\n",
       "    </tr>\n",
       "    <tr>\n",
       "      <th>3</th>\n",
       "      <td>us10007pkb</td>\n",
       "      <td>Feature</td>\n",
       "      <td>5.0</td>\n",
       "      <td>191 km SW of Nadi, Fiji</td>\n",
       "      <td>https://earthquake.usgs.gov/fdsnws/event/1/que...</td>\n",
       "      <td>Point</td>\n",
       "      <td>[176, -19, 10]</td>\n",
       "      <td>1668014872000</td>\n",
       "      <td>2017-01-01 00:04:06+00:00</td>\n",
       "      <td>2017-02-08 21:15:08+00:00</td>\n",
       "      <td>0</td>\n",
       "      <td>5-6</td>\n",
       "    </tr>\n",
       "    <tr>\n",
       "      <th>4</th>\n",
       "      <td>us10007udt</td>\n",
       "      <td>Feature</td>\n",
       "      <td>4.0</td>\n",
       "      <td>Fiji region</td>\n",
       "      <td>https://earthquake.usgs.gov/fdsnws/event/1/que...</td>\n",
       "      <td>Point</td>\n",
       "      <td>[-178, -18, 630]</td>\n",
       "      <td>1668014872000</td>\n",
       "      <td>2017-01-01 00:04:06+00:00</td>\n",
       "      <td>2017-02-08 21:15:08+00:00</td>\n",
       "      <td>0</td>\n",
       "      <td>4-5</td>\n",
       "    </tr>\n",
       "  </tbody>\n",
       "</table>\n",
       "</div>"
      ],
      "text/plain": [
       "            id     type  property.mag                      property.place  \\\n",
       "0   us10007pke  Feature           5.0             174 km SW of Nadi, Fiji   \n",
       "1  ak0175clbmm  Feature           1.0  15 km SSE of Susitna North, Alaska   \n",
       "2   us10007ue3  Feature           5.0             220 km SW of Nadi, Fiji   \n",
       "3   us10007pkb  Feature           5.0             191 km SW of Nadi, Fiji   \n",
       "4   us10007udt  Feature           4.0                         Fiji region   \n",
       "\n",
       "                                     property.detail geometry.type  \\\n",
       "0  https://earthquake.usgs.gov/fdsnws/event/1/que...         Point   \n",
       "1  https://earthquake.usgs.gov/fdsnws/event/1/que...         Point   \n",
       "2  https://earthquake.usgs.gov/fdsnws/event/1/que...         Point   \n",
       "3  https://earthquake.usgs.gov/fdsnws/event/1/que...         Point   \n",
       "4  https://earthquake.usgs.gov/fdsnws/event/1/que...         Point   \n",
       "\n",
       "  geometry.coordinates   generated_at                created_at  \\\n",
       "0       [176, -19, 10]  1668014872000 2017-01-01 00:04:06+00:00   \n",
       "1       [-150, 62, 46]  1668014872000 2017-01-01 00:04:06+00:00   \n",
       "2       [176, -19, 10]  1668014872000 2017-01-01 00:04:06+00:00   \n",
       "3       [176, -19, 10]  1668014872000 2017-01-01 00:04:06+00:00   \n",
       "4     [-178, -18, 630]  1668014872000 2017-01-01 00:04:06+00:00   \n",
       "\n",
       "                 updated_at  hour magnitude_bucket  \n",
       "0 2017-02-08 21:15:08+00:00     0              5-6  \n",
       "1 2017-02-08 21:15:08+00:00     0              1-2  \n",
       "2 2017-02-08 21:15:08+00:00     0              5-6  \n",
       "3 2017-02-08 21:15:08+00:00     0              5-6  \n",
       "4 2017-02-08 21:15:08+00:00     0              4-5  "
      ]
     },
     "execution_count": 6,
     "metadata": {},
     "output_type": "execute_result"
    }
   ],
   "source": [
    "events['hour'] = events['created_at'].apply(lambda x: x.hour)\n",
    "events['magnitude_bucket'] = events['property.mag'].apply (lambda x: get_magnitude_bucket(x))\n",
    "events.head()"
   ]
  },
  {
   "cell_type": "markdown",
   "id": "6046bbce",
   "metadata": {},
   "source": [
    "#### The following cell depicts the earthquake frequency per magnitude bucket and per hour of the day"
   ]
  },
  {
   "cell_type": "code",
   "execution_count": 42,
   "id": "a3ddc061",
   "metadata": {},
   "outputs": [
    {
     "data": {
      "text/html": [
       "<div>\n",
       "<style scoped>\n",
       "    .dataframe tbody tr th:only-of-type {\n",
       "        vertical-align: middle;\n",
       "    }\n",
       "\n",
       "    .dataframe tbody tr th {\n",
       "        vertical-align: top;\n",
       "    }\n",
       "\n",
       "    .dataframe thead th {\n",
       "        text-align: right;\n",
       "    }\n",
       "</style>\n",
       "<table border=\"1\" class=\"dataframe\">\n",
       "  <thead>\n",
       "    <tr style=\"text-align: right;\">\n",
       "      <th></th>\n",
       "      <th>magnitude_bucket</th>\n",
       "      <th>hour</th>\n",
       "      <th>earthquake_freq</th>\n",
       "    </tr>\n",
       "  </thead>\n",
       "  <tbody>\n",
       "    <tr>\n",
       "      <th>0</th>\n",
       "      <td>0-1</td>\n",
       "      <td>0</td>\n",
       "      <td>561</td>\n",
       "    </tr>\n",
       "    <tr>\n",
       "      <th>1</th>\n",
       "      <td>1-2</td>\n",
       "      <td>0</td>\n",
       "      <td>797</td>\n",
       "    </tr>\n",
       "    <tr>\n",
       "      <th>2</th>\n",
       "      <td>2-3</td>\n",
       "      <td>0</td>\n",
       "      <td>137</td>\n",
       "    </tr>\n",
       "    <tr>\n",
       "      <th>3</th>\n",
       "      <td>3-4</td>\n",
       "      <td>0</td>\n",
       "      <td>29</td>\n",
       "    </tr>\n",
       "    <tr>\n",
       "      <th>4</th>\n",
       "      <td>4-5</td>\n",
       "      <td>0</td>\n",
       "      <td>129</td>\n",
       "    </tr>\n",
       "  </tbody>\n",
       "</table>\n",
       "</div>"
      ],
      "text/plain": [
       "  magnitude_bucket  hour  earthquake_freq\n",
       "0              0-1     0              561\n",
       "1              1-2     0              797\n",
       "2              2-3     0              137\n",
       "3              3-4     0               29\n",
       "4              4-5     0              129"
      ]
     },
     "execution_count": 42,
     "metadata": {},
     "output_type": "execute_result"
    }
   ],
   "source": [
    "earthquake_freq_per_bucket_hr=events.groupby(['magnitude_bucket', 'hour']).size().to_frame('earthquake_freq').reset_index()\n",
    "earthquake_freq_per_bucket_hr.head()"
   ]
  },
  {
   "cell_type": "markdown",
   "id": "8416f35d",
   "metadata": {},
   "source": [
    "### Q7.  The highest probable hour of the day for earthquakes bucketed by magnitudes of earthquake"
   ]
  },
  {
   "cell_type": "code",
   "execution_count": 68,
   "id": "6943fe9c",
   "metadata": {},
   "outputs": [
    {
     "data": {
      "text/html": [
       "<div>\n",
       "<style scoped>\n",
       "    .dataframe tbody tr th:only-of-type {\n",
       "        vertical-align: middle;\n",
       "    }\n",
       "\n",
       "    .dataframe tbody tr th {\n",
       "        vertical-align: top;\n",
       "    }\n",
       "\n",
       "    .dataframe thead th {\n",
       "        text-align: right;\n",
       "    }\n",
       "</style>\n",
       "<table border=\"1\" class=\"dataframe\">\n",
       "  <thead>\n",
       "    <tr style=\"text-align: right;\">\n",
       "      <th></th>\n",
       "      <th>magnitude_bucket</th>\n",
       "      <th>hour</th>\n",
       "      <th>earthquake_freq</th>\n",
       "    </tr>\n",
       "  </thead>\n",
       "  <tbody>\n",
       "    <tr>\n",
       "      <th>1</th>\n",
       "      <td>1-2</td>\n",
       "      <td>0</td>\n",
       "      <td>797</td>\n",
       "    </tr>\n",
       "  </tbody>\n",
       "</table>\n",
       "</div>"
      ],
      "text/plain": [
       "  magnitude_bucket  hour  earthquake_freq\n",
       "1              1-2     0              797"
      ]
     },
     "execution_count": 68,
     "metadata": {},
     "output_type": "execute_result"
    }
   ],
   "source": [
    "indices_to_fetch = earthquake_freq_per_bucket_hr.groupby(['hour'])['earthquake_freq'].transform(max) == earthquake_freq_per_bucket_hr['earthquake_freq']\n",
    "earthquake_freq_per_bucket_hr[indices_to_fetch]"
   ]
  }
 ],
 "metadata": {
  "kernelspec": {
   "display_name": "Python 3.9.14 ('.venv': poetry)",
   "language": "python",
   "name": "python3"
  },
  "language_info": {
   "codemirror_mode": {
    "name": "ipython",
    "version": 3
   },
   "file_extension": ".py",
   "mimetype": "text/x-python",
   "name": "python",
   "nbconvert_exporter": "python",
   "pygments_lexer": "ipython3",
   "version": "3.9.14"
  },
  "vscode": {
   "interpreter": {
    "hash": "94cfe03ee6862fd374b0fa36f43b36b57eaecaa2348c19b51014aa3fdbc25679"
   }
  }
 },
 "nbformat": 4,
 "nbformat_minor": 5
}
